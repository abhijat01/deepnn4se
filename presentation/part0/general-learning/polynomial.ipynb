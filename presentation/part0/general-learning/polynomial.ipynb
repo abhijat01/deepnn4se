{
 "cells": [
  {
   "cell_type": "code",
   "execution_count": 1,
   "metadata": {},
   "outputs": [],
   "source": [
    "import numpy as np\n",
    "import torch.nn as nn\n",
    "import torch as torch\n",
    "import torch.optim as optim\n",
    "import poly_fit as pf\n",
    "import matplotlib as mpl\n",
    "import matplotlib.pyplot as plt"
   ]
  },
  {
   "cell_type": "markdown",
   "metadata": {},
   "source": [
    "<h2>Real function</h2>\n",
    "The real function from which data is generated is a  linear function $a_0+a_1x$"
   ]
  },
  {
   "cell_type": "code",
   "execution_count": 2,
   "metadata": {},
   "outputs": [],
   "source": [
    "def linear(x, a=1.,b=2.):\n",
    "    return a*x+b"
   ]
  },
  {
   "cell_type": "code",
   "execution_count": 3,
   "metadata": {},
   "outputs": [],
   "source": [
    "plt.rcParams['figure.figsize'] = [12, 8]"
   ]
  },
  {
   "cell_type": "markdown",
   "metadata": {},
   "source": [
    "Generating only 4 data points. The problem becomes worse if we were to use just two data points. "
   ]
  },
  {
   "cell_type": "code",
   "execution_count": 4,
   "metadata": {},
   "outputs": [],
   "source": [
    "x = np.array([1.,2.,3,4])\n",
    "y = linear(x)\n",
    "y_t = torch.from_numpy( y )"
   ]
  },
  {
   "cell_type": "markdown",
   "metadata": {},
   "source": [
    "Creating a  polynomial $a_0+a_1x$"
   ]
  },
  {
   "cell_type": "code",
   "execution_count": 5,
   "metadata": {},
   "outputs": [],
   "source": [
    "net = pf.PolynomialLayer(2) \n",
    "optimizer = optim.Adam(net.parameters(), lr=.01)\n",
    "loss_func = nn.MSELoss() "
   ]
  },
  {
   "cell_type": "code",
   "execution_count": 6,
   "metadata": {},
   "outputs": [
    {
     "name": "stdout",
     "output_type": "stream",
     "text": [
      "tensor(1.3630, dtype=torch.float64, grad_fn=<MseLossBackward>)\n",
      "tensor(0.0856, dtype=torch.float64, grad_fn=<MseLossBackward>)\n",
      "tensor(0.0377, dtype=torch.float64, grad_fn=<MseLossBackward>)\n",
      "tensor(0.0126, dtype=torch.float64, grad_fn=<MseLossBackward>)\n",
      "tensor(0.0033, dtype=torch.float64, grad_fn=<MseLossBackward>)\n",
      "tensor(0.0007, dtype=torch.float64, grad_fn=<MseLossBackward>)\n",
      "tensor(0.0001, dtype=torch.float64, grad_fn=<MseLossBackward>)\n",
      "tensor(1.4525e-05, dtype=torch.float64, grad_fn=<MseLossBackward>)\n",
      "tensor(1.4698e-06, dtype=torch.float64, grad_fn=<MseLossBackward>)\n",
      "tensor(1.1559e-07, dtype=torch.float64, grad_fn=<MseLossBackward>)\n"
     ]
    }
   ],
   "source": [
    "for i in range(1000):\n",
    "    optimizer.zero_grad()\n",
    "    y_pred  = net(x)\n",
    "    loss = loss_func(y_pred, y_t)\n",
    "    loss.backward()\n",
    "    optimizer.step()\n",
    "    if i%100 == 0 :\n",
    "        print(loss)\n",
    "        #net.print_weights()"
   ]
  },
  {
   "cell_type": "code",
   "execution_count": 7,
   "metadata": {},
   "outputs": [],
   "source": [
    "def plot_and_compare(x,y, real_func,  net_func, xmin=0,xmax=5, ylim=None, save_file=None):\n",
    "    x_net = np.arange(xmin, xmax, .1)\n",
    "    y_tensor = net_func(x_net) \n",
    "    y_pred = y_tensor.data.numpy() \n",
    "    y_real = real_func(x_net)\n",
    "    l1,=plt.plot(x_net, y_pred, 'r-o',markersize=1, label=\"Learned function\")\n",
    "    l2,=plt.plot(x_net, y_real, 'bo', markersize=1, label=\"Real function\")\n",
    "    l3,=plt.plot(x,y,'gx', label=\"Learning data\")\n",
    "    plt.legend(handles=[l1,l2,l3])\n",
    "    if not (ylim is None):\n",
    "        plt.ylim(ylim)\n",
    "    if not (save_file is None):\n",
    "        plt.savefig(save_file, dpi=150)"
   ]
  },
  {
   "cell_type": "code",
   "execution_count": 8,
   "metadata": {},
   "outputs": [
    {
     "name": "stdout",
     "output_type": "stream",
     "text": [
      "Parameter containing:\n",
      "tensor([[1.9998, 1.0001]], requires_grad=True)\n"
     ]
    },
    {
     "data": {
      "image/png": "[encoded data removed]",
      "text/plain": [
       "<Figure size 864x576 with 1 Axes>"
      ]
     },
     "metadata": {
      "needs_background": "light"
     },
     "output_type": "display_data"
    }
   ],
   "source": [
    "plot_and_compare(x,y,linear,  net, ylim=(-50,50), save_file='linear_eg1.png')\n",
    "net.print_weights() "
   ]
  },
  {
   "cell_type": "markdown",
   "metadata": {},
   "source": [
    "<h1>Higher order polynomial</h1>\n",
    "Let us create data first "
   ]
  },
  {
   "cell_type": "code",
   "execution_count": null,
   "metadata": {},
   "outputs": [],
   "source": [
    "x = np.array([1.,2.,3,4])\n",
    "y = linear(x)\n",
    "y_t = torch.from_numpy( y )"
   ]
  },
  {
   "cell_type": "markdown",
   "metadata": {},
   "source": [
    "Here, the function is $a_0+a_1x+a_2x^2+\\dots +a_9x^9$ and we need to find the values of \n",
    "$a_0, a_1, \\dots a_9$"
   ]
  },
  {
   "cell_type": "code",
   "execution_count": null,
   "metadata": {},
   "outputs": [],
   "source": [
    "net = pf.PolynomialLayer(10) \n",
    "optimizer = optim.Adam(net.parameters(), lr=.01)\n",
    "loss_func = nn.MSELoss() "
   ]
  },
  {
   "cell_type": "code",
   "execution_count": null,
   "metadata": {},
   "outputs": [],
   "source": [
    "for i in range(100000):\n",
    "    optimizer.zero_grad()\n",
    "    y_pred  = net(x)\n",
    "    loss = loss_func(y_pred, y_t)\n",
    "    loss.backward()\n",
    "    optimizer.step()\n",
    "    if i%10000 == 0 :\n",
    "        print(loss)\n",
    "        #net.print_weights()"
   ]
  },
  {
   "cell_type": "code",
   "execution_count": null,
   "metadata": {},
   "outputs": [],
   "source": [
    "ylim=(-20,50)\n",
    "plot_and_compare(x,y,linear,  net, -5,5, ylim=ylim, save_file=\"linear_w_degree_9.png\")\n",
    "net.print_weights() "
   ]
  },
  {
   "cell_type": "markdown",
   "metadata": {},
   "source": [
    "<h1>Making it worse!</h1>"
   ]
  },
  {
   "cell_type": "code",
   "execution_count": null,
   "metadata": {},
   "outputs": [],
   "source": [
    "x = np.array([-4,4])\n",
    "y = linear(x)\n",
    "y_t = torch.from_numpy( y )"
   ]
  },
  {
   "cell_type": "code",
   "execution_count": null,
   "metadata": {},
   "outputs": [],
   "source": [
    "net = pf.PolynomialLayer(10) \n",
    "optimizer = optim.Adam(net.parameters(), lr=.01)\n",
    "loss_func = nn.MSELoss() "
   ]
  },
  {
   "cell_type": "code",
   "execution_count": null,
   "metadata": {},
   "outputs": [],
   "source": [
    "for i in range(10000):\n",
    "    optimizer.zero_grad()\n",
    "    y_pred  = net(x)\n",
    "    loss = loss_func(y_pred, y_t)\n",
    "    loss.backward()\n",
    "    optimizer.step()\n",
    "    if i%1000 == 0 :\n",
    "        print(loss)\n",
    "        #net.print_weights()"
   ]
  },
  {
   "cell_type": "code",
   "execution_count": null,
   "metadata": {},
   "outputs": [],
   "source": [
    "ylim=(-1500,1500)\n",
    "plot_and_compare(x,y,linear,  net, -5,5, ylim=ylim, save_file='linear_w_degree_9_2points_only.png')\n",
    "net.print_weights() "
   ]
  },
  {
   "cell_type": "markdown",
   "metadata": {},
   "source": [
    "<h1>Estimating quadratics</h1>"
   ]
  },
  {
   "cell_type": "markdown",
   "metadata": {},
   "source": [
    "Original data from $1-2x+4x^2$"
   ]
  },
  {
   "cell_type": "code",
   "execution_count": 10,
   "metadata": {},
   "outputs": [],
   "source": [
    "def quad(x, a=1., b=-2., c=4):\n",
    "    return a-b*x+c*np.square(x)"
   ]
  },
  {
   "cell_type": "code",
   "execution_count": null,
   "metadata": {},
   "outputs": [],
   "source": [
    "x = np.array([-4.,4, 2])\n",
    "y = quad(x)\n",
    "y_t = torch.from_numpy( y )\n",
    "net = pf.PolynomialLayer(3) \n",
    "optimizer = optim.Adam(net.parameters(), lr=.01)\n",
    "loss_func = nn.MSELoss()"
   ]
  },
  {
   "cell_type": "code",
   "execution_count": null,
   "metadata": {},
   "outputs": [],
   "source": [
    "losses=[] \n",
    "each_n = 1000\n",
    "for i in range(10000):\n",
    "    optimizer.zero_grad()\n",
    "    y_pred  = net(x)\n",
    "    loss = loss_func(y_pred, y_t)\n",
    "    losses.append(loss) \n",
    "    loss.backward()\n",
    "    optimizer.step()\n",
    "    if i%each_n == 0 :\n",
    "        loss_n = losses[each_n:]\n",
    "        if loss_n:\n",
    "            print(torch.mean(torch.Tensor(loss_n)).data)\n",
    "        #net.print_weights()"
   ]
  },
  {
   "cell_type": "code",
   "execution_count": null,
   "metadata": {},
   "outputs": [],
   "source": [
    "plot_and_compare(x,y,quad,  net, -5,5, save_file='quad_w_degree_2.png')\n",
    "net.print_weights() "
   ]
  },
  {
   "cell_type": "code",
   "execution_count": null,
   "metadata": {},
   "outputs": [],
   "source": [
    "x = np.array([-4.,4, 2])\n",
    "y = quad(x)\n",
    "y_t = torch.from_numpy( y )\n",
    "net = pf.PolynomialLayer(10) \n",
    "optimizer = optim.Adam(net.parameters(), lr=.01)\n",
    "loss_func = nn.MSELoss()"
   ]
  },
  {
   "cell_type": "code",
   "execution_count": null,
   "metadata": {},
   "outputs": [],
   "source": [
    "losses=[] \n",
    "each_n = 1000\n",
    "for i in range(each_n*10):\n",
    "    optimizer.zero_grad()\n",
    "    y_pred  = net(x)\n",
    "    loss = loss_func(y_pred, y_t)\n",
    "    losses.append(loss) \n",
    "    loss.backward()\n",
    "    optimizer.step()\n",
    "    if i%each_n == 0 :\n",
    "        loss_n = losses[each_n:]\n",
    "        if loss_n:\n",
    "            print(torch.mean(torch.Tensor(loss_n)).data)\n",
    "        #net.print_weights()"
   ]
  },
  {
   "cell_type": "code",
   "execution_count": null,
   "metadata": {},
   "outputs": [],
   "source": [
    "ylim=(-300,300)\n",
    "plot_and_compare(x,y,quad,  net, -5,5,ylim=ylim, save_file='quad_w_degree_9.png')\n",
    "net.print_weights() "
   ]
  },
  {
   "cell_type": "code",
   "execution_count": null,
   "metadata": {},
   "outputs": [],
   "source": [
    "plt.plot(x,y,'go')\n",
    "plt.plot(np.arange(-4,4,.1), quad(np.arange(-4,4,.1)), 'ro',markersize=1)"
   ]
  },
  {
   "cell_type": "code",
   "execution_count": 45,
   "metadata": {},
   "outputs": [],
   "source": [
    "x = np.array([-4.,-2,0,2,4])\n",
    "y = quad(x)\n",
    "y_t = torch.from_numpy( y )\n",
    "net = pf.PolynomialLayer(10) \n",
    "optimizer = optim.Adam(net.parameters(), lr=.01)\n",
    "loss_func = nn.MSELoss()"
   ]
  },
  {
   "cell_type": "code",
   "execution_count": 47,
   "metadata": {},
   "outputs": [
    {
     "name": "stdout",
     "output_type": "stream",
     "text": [
      "tensor(1.0075e-05)\n",
      "tensor(8805.8965)\n",
      "tensor(4480.3882)\n",
      "tensor(3640.0933)\n",
      "tensor(3397.6489)\n",
      "tensor(3177.9592)\n",
      "tensor(3779.0405)\n",
      "tensor(3375.5212)\n",
      "tensor(3268.1804)\n"
     ]
    }
   ],
   "source": [
    "losses=[] \n",
    "each_n = 1000\n",
    "for i in range(each_n*10):\n",
    "    optimizer.zero_grad()\n",
    "    y_pred  = net(x)\n",
    "    loss = loss_func(y_pred, y_t)\n",
    "    losses.append(loss) \n",
    "    loss.backward()\n",
    "    optimizer.step()\n",
    "    if i%each_n == 0 :\n",
    "        loss_n = losses[each_n:]\n",
    "        if loss_n:\n",
    "            print(torch.mean(torch.Tensor(loss_n)).data)"
   ]
  },
  {
   "cell_type": "code",
   "execution_count": 48,
   "metadata": {},
   "outputs": [
    {
     "name": "stdout",
     "output_type": "stream",
     "text": [
      "Parameter containing:\n",
      "tensor([[ 1.0012e+00, -3.6836e+01,  2.0611e+00, -9.0698e+00,  8.7622e-01,\n",
      "         -6.7733e-01, -1.1479e-01,  1.7616e+00,  4.2254e-03, -1.0465e-01]],\n",
      "       requires_grad=True)\n"
     ]
    },
    {
     "data": {
      "image/png": "[encoded data removed]",
      "text/plain": [
       "<Figure size 864x576 with 1 Axes>"
      ]
     },
     "metadata": {
      "needs_background": "light"
     },
     "output_type": "display_data"
    }
   ],
   "source": [
    "ylim=(-200,200)\n",
    "plot_and_compare(x,y,quad,  net, -5,5,ylim=ylim, save_file='quad_w_degree_9_5points.png')\n",
    "net.print_weights() "
   ]
  },
  {
   "cell_type": "code",
   "execution_count": null,
   "metadata": {},
   "outputs": [],
   "source": []
  }
 ],
 "metadata": {
  "kernelspec": {
   "display_name": "Python 3",
   "language": "python",
   "name": "python3"
  },
  "language_info": {
   "codemirror_mode": {
    "name": "ipython",
    "version": 3
   },
   "file_extension": ".py",
   "mimetype": "text/x-python",
   "name": "python",
   "nbconvert_exporter": "python",
   "pygments_lexer": "ipython3",
   "version": "3.8.5"
  }
 },
 "nbformat": 4,
 "nbformat_minor": 4
}
