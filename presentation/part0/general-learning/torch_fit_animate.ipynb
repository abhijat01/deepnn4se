{
 "cells": [
  {
   "cell_type": "code",
   "execution_count": 1,
   "metadata": {},
   "outputs": [],
   "source": [
    "import numpy as np\n",
    "import torch.nn as nn\n",
    "import torch as torch\n",
    "import torch.optim as optim\n",
    "import poly_fit as pf\n",
    "import matplotlib as mpl\n",
    "import matplotlib.pyplot as plt\n",
    "\n",
    "from IPython import display \n",
    "import pylab as pl \n",
    "import time as time "
   ]
  },
  {
   "cell_type": "markdown",
   "metadata": {},
   "source": [
    "<h1>Introduciton</h1>\n",
    "In this notebook, we use a known model or function, $R^1 \\rightarrow R^1$. \n",
    "We stay in one dimension for ease of visualization. We can use $x$ axis for input and $y$ axis for output. Visualizing the behaviour of a known and well controlled model \n",
    "as well as the function that framework is trying to learn makes it easy to understand the issues with data, model complexity, overfitting etc. \n",
    "<h2>Target data </h2>\n",
    "We use a linear and quadratic polynomial to generate target data for learning. \n",
    "<h3>Linear target</h3>\n",
    "$a+bx$, default: $1+2x$"
   ]
  },
  {
   "cell_type": "code",
   "execution_count": 2,
   "metadata": {},
   "outputs": [],
   "source": [
    "def linear(x, a=1.,b=2.):\n",
    "    return a*x+b"
   ]
  },
  {
   "cell_type": "markdown",
   "metadata": {},
   "source": [
    "<h3>Quadratic target</h3>\n",
    "$a+bx+cx^2$, default: $4x^2-2x+1$"
   ]
  },
  {
   "cell_type": "code",
   "execution_count": 3,
   "metadata": {},
   "outputs": [],
   "source": [
    "def quad(x, a=1., b=-2., c=4):\n",
    "    return a-b*x+c*np.square(x)"
   ]
  },
  {
   "cell_type": "markdown",
   "metadata": {},
   "source": [
    "<h2>Learned model</h2>\n",
    "We use a custom pytorch layer that represents polynomial model of different degrees.  "
   ]
  },
  {
   "cell_type": "markdown",
   "metadata": {},
   "source": [
    "<h1>Utilities and common functions</h1>\n",
    "<h3>Plotting functions</h3>"
   ]
  },
  {
   "cell_type": "code",
   "execution_count": 36,
   "metadata": {},
   "outputs": [],
   "source": [
    "def plot_and_compare(x,y, real_func,  net_func, xmin=0,xmax=5, ylim=None, save_file=None):\n",
    "    x_net = np.arange(xmin, xmax, .1)\n",
    "    y_tensor = net_func(x_net) \n",
    "    y_pred = y_tensor.data.numpy() \n",
    "    y_real = real_func(x_net)\n",
    "    l1,=plt.plot(x_net, y_pred, 'ro',markersize=1, label=\"Learned function\")\n",
    "    l2,=plt.plot(x_net, y_real, 'bo', markersize=1, label=\"Real function\")\n",
    "    l3,=plt.plot(x,y,'gx', label=\"Learning data\")\n",
    "    plt.legend(handles=[l1,l2,l3])\n",
    "    if not (ylim is None):\n",
    "        plt.ylim(ylim)\n",
    "    if not (save_file is None):\n",
    "        plt.savefig(save_file, dpi=150)\n",
    "\n",
    "def plot_and_compare_animate(x,y, real_func,  net_func, xmin=0,xmax=5, ylim=None, show_arrows=False, pause_time=-1):\n",
    "    x_net = np.arange(xmin, xmax, .1)\n",
    "    y_tensor = net_func(x_net) \n",
    "    y_pred = y_tensor.data.numpy() \n",
    "    y_real = real_func(x_net)\n",
    "    plt.clf() \n",
    "    if not (ylim is None):\n",
    "        plt.ylim(ylim)\n",
    "    l1,=plt.plot(x_net, y_pred, 'r-o',markersize=1, label=\"Learned function\")\n",
    "    l2,=plt.plot(x_net, y_real, 'bo', markersize=1, label=\"Real function\")\n",
    "    l3,=plt.plot(x,y,'gx', label=\"Learning data\")\n",
    "    if show_arrows:\n",
    "        y_begin = net_func(x).data.numpy() \n",
    "        abs_dely = y -y_begin\n",
    "        for i, xi in enumerate(x):\n",
    "            dx, dy = 0, abs_dely[i] \n",
    "            plt.arrow(x[i], y_begin[i],dx, dy )\n",
    "    plt.legend(handles=[l1,l2,l3])\n",
    "    display.clear_output(wait=True)\n",
    "    display.display(pl.gcf())\n",
    "    if pause_time>0:\n",
    "        time.sleep(pause_time)\n",
    "    \n",
    "plt.rcParams['figure.figsize'] = [12, 8]"
   ]
  },
  {
   "cell_type": "markdown",
   "metadata": {},
   "source": [
    "<h1>Fitting linear data to linear model</h1>\n",
    "Generating only 4 data points. "
   ]
  },
  {
   "cell_type": "code",
   "execution_count": 5,
   "metadata": {},
   "outputs": [],
   "source": [
    "x = np.array([1.,2.,3,4])\n",
    "y = linear(x)\n",
    "y_t = torch.from_numpy( y ).float() "
   ]
  },
  {
   "cell_type": "markdown",
   "metadata": {},
   "source": [
    "Creating two layer linear network "
   ]
  },
  {
   "cell_type": "code",
   "execution_count": 6,
   "metadata": {},
   "outputs": [],
   "source": [
    "net = pf.MultiLinearRegression(5)\n",
    "optimizer = optim.Adam(net.parameters(), lr=.01)\n",
    "loss_func = nn.MSELoss() "
   ]
  },
  {
   "cell_type": "code",
   "execution_count": 7,
   "metadata": {},
   "outputs": [
    {
     "name": "stderr",
     "output_type": "stream",
     "text": [
      "C:\\Users\\avatsyayan\\Anaconda3\\envs\\pytorch\\lib\\site-packages\\torch\\nn\\modules\\loss.py:446: UserWarning: Using a target size (torch.Size([4])) that is different to the input size (torch.Size([4, 1])). This will likely lead to incorrect results due to broadcasting. Please ensure they have the same size.\n",
      "  return F.mse_loss(input, target, reduction=self.reduction)\n"
     ]
    },
    {
     "name": "stdout",
     "output_type": "stream",
     "text": [
      "tensor(27.1249, grad_fn=<MseLossBackward>)\n",
      "tensor(1.8286, grad_fn=<MseLossBackward>)\n",
      "tensor(1.3059, grad_fn=<MseLossBackward>)\n",
      "tensor(1.2780, grad_fn=<MseLossBackward>)\n",
      "tensor(1.2634, grad_fn=<MseLossBackward>)\n",
      "tensor(1.2563, grad_fn=<MseLossBackward>)\n",
      "tensor(1.2529, grad_fn=<MseLossBackward>)\n",
      "tensor(1.2514, grad_fn=<MseLossBackward>)\n",
      "tensor(1.2507, grad_fn=<MseLossBackward>)\n",
      "tensor(1.2504, grad_fn=<MseLossBackward>)\n"
     ]
    }
   ],
   "source": [
    "for i in range(1000):\n",
    "    optimizer.zero_grad()\n",
    "    y_pred  = net(x)\n",
    "    loss = loss_func(y_pred, y_t)\n",
    "    loss.backward()\n",
    "    optimizer.step()\n",
    "    if i%100 == 0 :\n",
    "        print(loss)\n",
    "        #plot_and_compare_animate(x,y,linear,  net, ylim=(-50,50), show_arrows=True, pause_time=.1)\n",
    "        #net.print_weights()"
   ]
  },
  {
   "cell_type": "code",
   "execution_count": 8,
   "metadata": {},
   "outputs": [
    {
     "data": {
      "image/png": "[encoded data removed]",
      "text/plain": [
       "<Figure size 864x576 with 1 Axes>"
      ]
     },
     "metadata": {
      "needs_background": "light"
     },
     "output_type": "display_data"
    }
   ],
   "source": [
    "plot_and_compare(x,y,linear,  net, ylim=(-50,50), save_file='linear_eg1.png')\n",
    "#net.print_weights() "
   ]
  },
  {
   "cell_type": "markdown",
   "metadata": {},
   "source": [
    "<h1>Fitting linear data to higher order polynomial</h1>\n",
    "Let us create data first "
   ]
  },
  {
   "cell_type": "code",
   "execution_count": 9,
   "metadata": {},
   "outputs": [],
   "source": [
    "x = np.array([1.,2.,3,4])\n",
    "y = linear(x)\n",
    "y_t = torch.from_numpy( y ).float() "
   ]
  },
  {
   "cell_type": "markdown",
   "metadata": {},
   "source": [
    "Here, the function is $a_0+a_1x+a_2x^2+\\dots +a_9x^9$ and we need to find the values of \n",
    "$a_0, a_1, \\dots a_9$. You should expect this function to be rather \"wavy\" - in general, a polynomial of digree $n$ will have a total of $n$ \n",
    "real and imaginary roots. "
   ]
  },
  {
   "cell_type": "code",
   "execution_count": 10,
   "metadata": {},
   "outputs": [],
   "source": [
    "net = pf.MultiLinearRegression(10) \n",
    "optimizer = optim.Adam(net.parameters(), lr=.01)\n",
    "loss_func = nn.MSELoss() "
   ]
  },
  {
   "cell_type": "code",
   "execution_count": 11,
   "metadata": {},
   "outputs": [
    {
     "name": "stderr",
     "output_type": "stream",
     "text": [
      "C:\\Users\\avatsyayan\\Anaconda3\\envs\\pytorch\\lib\\site-packages\\torch\\nn\\modules\\loss.py:446: UserWarning: Using a target size (torch.Size([4])) that is different to the input size (torch.Size([4, 1])). This will likely lead to incorrect results due to broadcasting. Please ensure they have the same size.\n",
      "  return F.mse_loss(input, target, reduction=self.reduction)\n"
     ]
    },
    {
     "name": "stdout",
     "output_type": "stream",
     "text": [
      "tensor(23.0407)\n",
      "tensor(1.2511)\n",
      "tensor(1.2501)\n",
      "tensor(1.2500)\n",
      "tensor(1.2500)\n",
      "tensor(1.2500)\n",
      "tensor(1.2500)\n",
      "tensor(1.2500)\n",
      "tensor(1.2500)\n",
      "tensor(1.2500)\n",
      "tensor(1.2500)\n",
      "tensor(1.2500)\n",
      "tensor(1.2500)\n",
      "tensor(1.2500)\n",
      "tensor(1.2500)\n",
      "tensor(1.2500)\n",
      "tensor(1.2500)\n",
      "tensor(1.2502)\n",
      "tensor(1.2500)\n",
      "tensor(1.2500)\n",
      "tensor(1.2500)\n",
      "tensor(1.2500)\n",
      "tensor(1.2500)\n",
      "tensor(1.2500)\n",
      "tensor(1.2500)\n",
      "tensor(1.2500)\n",
      "tensor(1.2500)\n",
      "tensor(1.2500)\n",
      "tensor(1.2500)\n",
      "tensor(1.2500)\n",
      "tensor(1.2500)\n",
      "tensor(1.2500)\n",
      "tensor(1.2500)\n",
      "tensor(1.2500)\n",
      "tensor(1.2500)\n",
      "tensor(1.2501)\n",
      "tensor(1.2500)\n",
      "tensor(1.2500)\n",
      "tensor(1.2500)\n",
      "tensor(1.2500)\n",
      "tensor(1.2500)\n",
      "tensor(1.2500)\n",
      "tensor(1.2500)\n",
      "tensor(1.2500)\n",
      "tensor(1.2500)\n",
      "tensor(1.2500)\n",
      "tensor(1.2500)\n",
      "tensor(1.2500)\n",
      "tensor(1.2500)\n",
      "tensor(1.2500)\n",
      "tensor(1.2500)\n",
      "tensor(1.2500)\n",
      "tensor(1.2500)\n",
      "tensor(1.2501)\n",
      "tensor(1.2500)\n",
      "tensor(1.2500)\n",
      "tensor(1.2500)\n",
      "tensor(1.2500)\n",
      "tensor(1.2500)\n",
      "tensor(1.2500)\n",
      "tensor(1.2500)\n",
      "tensor(1.2500)\n",
      "tensor(1.2500)\n",
      "tensor(1.2500)\n",
      "tensor(1.2500)\n",
      "tensor(1.2500)\n",
      "tensor(1.2500)\n",
      "tensor(1.2500)\n",
      "tensor(1.2500)\n",
      "tensor(1.2500)\n",
      "tensor(1.2500)\n",
      "tensor(1.2500)\n",
      "tensor(1.2500)\n",
      "tensor(1.2500)\n",
      "tensor(1.2500)\n",
      "tensor(1.2500)\n",
      "tensor(1.2500)\n",
      "tensor(1.2500)\n",
      "tensor(1.2501)\n",
      "tensor(1.2500)\n",
      "tensor(1.2500)\n",
      "tensor(1.2500)\n",
      "tensor(1.2500)\n",
      "tensor(1.2500)\n",
      "tensor(1.2500)\n",
      "tensor(1.2500)\n",
      "tensor(1.2500)\n",
      "tensor(1.2500)\n",
      "tensor(1.2500)\n",
      "tensor(1.2500)\n",
      "tensor(1.2500)\n",
      "tensor(1.2500)\n",
      "tensor(1.2500)\n",
      "tensor(1.2500)\n",
      "tensor(1.2500)\n",
      "tensor(1.2500)\n",
      "tensor(1.2501)\n",
      "tensor(1.2500)\n",
      "tensor(1.2500)\n",
      "tensor(1.2500)\n"
     ]
    }
   ],
   "source": [
    "for i in range(100000):\n",
    "    optimizer.zero_grad()\n",
    "    y_pred  = net(x)\n",
    "    loss = loss_func(y_pred, y_t)\n",
    "    loss.backward()\n",
    "    optimizer.step()\n",
    "    if i%1000 == 0 :\n",
    "        ylim=(-20,50)\n",
    "        print(loss.data)\n",
    "        #plot_and_compare_animate(x,y,linear,  net, -5,5, ylim=ylim, show_arrows=True)\n",
    "        #net.print_weights()"
   ]
  },
  {
   "cell_type": "code",
   "execution_count": 12,
   "metadata": {},
   "outputs": [
    {
     "data": {
      "image/png": "[encoded data removed]",
      "text/plain": [
       "<Figure size 864x576 with 1 Axes>"
      ]
     },
     "metadata": {
      "needs_background": "light"
     },
     "output_type": "display_data"
    }
   ],
   "source": [
    "ylim=(-20,50)\n",
    "plot_and_compare(x,y,linear,  net, -5,5, ylim=ylim, save_file=\"linear_w_degree_9.png\")\n",
    "#net.print_weights() "
   ]
  },
  {
   "cell_type": "markdown",
   "metadata": {},
   "source": [
    "<h1>Using only two data points!</h1>"
   ]
  },
  {
   "cell_type": "code",
   "execution_count": 17,
   "metadata": {},
   "outputs": [],
   "source": [
    "x = np.array([-4,4])\n",
    "y = linear(x)\n",
    "y_t = torch.from_numpy( y ).float()"
   ]
  },
  {
   "cell_type": "code",
   "execution_count": 18,
   "metadata": {},
   "outputs": [],
   "source": [
    "net = pf.MultiLinearRegression(10) \n",
    "optimizer = optim.Adam(net.parameters(), lr=.01)\n",
    "loss_func = nn.MSELoss() "
   ]
  },
  {
   "cell_type": "code",
   "execution_count": 19,
   "metadata": {},
   "outputs": [
    {
     "name": "stderr",
     "output_type": "stream",
     "text": [
      "C:\\Users\\avatsyayan\\Anaconda3\\envs\\pytorch\\lib\\site-packages\\torch\\nn\\modules\\loss.py:446: UserWarning: Using a target size (torch.Size([2])) that is different to the input size (torch.Size([2, 1])). This will likely lead to incorrect results due to broadcasting. Please ensure they have the same size.\n",
      "  return F.mse_loss(input, target, reduction=self.reduction)\n"
     ]
    }
   ],
   "source": [
    "for i in range(10000):\n",
    "    optimizer.zero_grad()\n",
    "    y_pred  = net(x)\n",
    "    loss = loss_func(y_pred, y_t)\n",
    "    loss.backward()\n",
    "    optimizer.step()\n",
    "    if i%1000 == 0 :\n",
    "        ylim=(-250,250)\n",
    "        #plot_and_compare_animate(x,y,linear,  net, -5,5, ylim=ylim, show_arrows=True)\n",
    "        #net.print_weights()"
   ]
  },
  {
   "cell_type": "code",
   "execution_count": 20,
   "metadata": {},
   "outputs": [
    {
     "data": {
      "image/png": "[encoded data removed]",
      "text/plain": [
       "<Figure size 864x576 with 1 Axes>"
      ]
     },
     "metadata": {
      "needs_background": "light"
     },
     "output_type": "display_data"
    }
   ],
   "source": [
    "ylim=(-100,100)\n",
    "plot_and_compare(x,y,linear,  net, -5,5, ylim=ylim, save_file='linear_w_degree_9_2points_only.png')\n",
    "#net.print_weights() "
   ]
  },
  {
   "cell_type": "markdown",
   "metadata": {},
   "source": [
    "<h1>Fitting data generated from a quadtratic model</h1>\n",
    "<h2>First we fit to a quadratic model</h2>\n",
    "Look at\n",
    "\n",
    "  ```python\n",
    "    net = pf.PolynomialLayer(3) \n",
    "  ```\n",
    "which creates a polynomial of digree 2 for fitting the model "
   ]
  },
  {
   "cell_type": "code",
   "execution_count": 23,
   "metadata": {},
   "outputs": [],
   "source": [
    "x = np.array([-4.,4, 2])\n",
    "y = quad(x)\n",
    "y_t = torch.from_numpy( y ).float()\n",
    "net = pf.MultiLinearRegression(3) \n",
    "optimizer = optim.Adam(net.parameters(), lr=.01)\n",
    "loss_func = nn.MSELoss()"
   ]
  },
  {
   "cell_type": "code",
   "execution_count": 25,
   "metadata": {},
   "outputs": [
    {
     "name": "stderr",
     "output_type": "stream",
     "text": [
      "C:\\Users\\avatsyayan\\Anaconda3\\envs\\pytorch\\lib\\site-packages\\torch\\nn\\modules\\loss.py:446: UserWarning: Using a target size (torch.Size([3])) that is different to the input size (torch.Size([3, 1])). This will likely lead to incorrect results due to broadcasting. Please ensure they have the same size.\n",
      "  return F.mse_loss(input, target, reduction=self.reduction)\n"
     ]
    }
   ],
   "source": [
    "losses=[] \n",
    "each_n = 1000\n",
    "for i in range(10000):\n",
    "    optimizer.zero_grad()\n",
    "    y_pred  = net(x)\n",
    "    loss = loss_func(y_pred, y_t)\n",
    "    losses.append(loss) \n",
    "    loss.backward()\n",
    "    optimizer.step()\n",
    "    if i%each_n == 0 :\n",
    "        loss_n = losses[each_n:]\n",
    "        if loss_n:\n",
    "            #print(torch.mean(torch.Tensor(loss_n)).data)\n",
    "            ylim=(-10,120)\n",
    "            #plot_and_compare_animate(x,y,quad,  net, -5,5, ylim=ylim, show_arrows=True)\n",
    "        #net.print_weights()"
   ]
  },
  {
   "cell_type": "code",
   "execution_count": 26,
   "metadata": {},
   "outputs": [
    {
     "data": {
      "image/png": "[encoded data removed]",
      "text/plain": [
       "<Figure size 864x576 with 1 Axes>"
      ]
     },
     "metadata": {
      "needs_background": "light"
     },
     "output_type": "display_data"
    }
   ],
   "source": [
    "plot_and_compare(x,y,quad,  net, -5,5, save_file='quad_w_degree_2.png')\n",
    "#net.print_weights() "
   ]
  },
  {
   "cell_type": "markdown",
   "metadata": {},
   "source": [
    "<h1>Fitting a 9 degree polynomial to quadratic data</h1>"
   ]
  },
  {
   "cell_type": "code",
   "execution_count": 27,
   "metadata": {},
   "outputs": [],
   "source": [
    "x = np.array([-4.,4, 2])\n",
    "y = quad(x)\n",
    "y_t = torch.from_numpy( y ).float() \n",
    "net = pf.MultiLinearRegression(20) \n",
    "optimizer = optim.Adam(net.parameters(), lr=.01)\n",
    "loss_func = nn.MSELoss()"
   ]
  },
  {
   "cell_type": "code",
   "execution_count": 31,
   "metadata": {},
   "outputs": [
    {
     "name": "stderr",
     "output_type": "stream",
     "text": [
      "C:\\Users\\avatsyayan\\Anaconda3\\envs\\pytorch\\lib\\site-packages\\torch\\nn\\modules\\loss.py:446: UserWarning: Using a target size (torch.Size([3])) that is different to the input size (torch.Size([3, 1])). This will likely lead to incorrect results due to broadcasting. Please ensure they have the same size.\n",
      "  return F.mse_loss(input, target, reduction=self.reduction)\n"
     ]
    },
    {
     "name": "stdout",
     "output_type": "stream",
     "text": [
      "tensor(472.8973)\n",
      "tensor(472.8903)\n",
      "tensor(472.8895)\n",
      "tensor(472.8893)\n",
      "tensor(472.8892)\n",
      "tensor(472.8890)\n",
      "tensor(472.8890)\n",
      "tensor(472.8889)\n",
      "tensor(472.8889)\n"
     ]
    }
   ],
   "source": [
    "losses=[] \n",
    "each_n = 1000\n",
    "for i in range(each_n*10):\n",
    "    optimizer.zero_grad()\n",
    "    y_pred  = net(x)\n",
    "    loss = loss_func(y_pred, y_t)\n",
    "    losses.append(loss) \n",
    "    loss.backward()\n",
    "    optimizer.step()\n",
    "    if i%each_n == 0 :\n",
    "        loss_n = losses[each_n:]\n",
    "        if loss_n:\n",
    "            print(torch.mean(torch.Tensor(loss_n)).data)"
   ]
  },
  {
   "cell_type": "code",
   "execution_count": 32,
   "metadata": {},
   "outputs": [
    {
     "ename": "ModuleAttributeError",
     "evalue": "'MultiLinearRegression' object has no attribute 'print_weights'",
     "output_type": "error",
     "traceback": [
      "\u001b[1;31m---------------------------------------------------------------------------\u001b[0m",
      "\u001b[1;31mModuleAttributeError\u001b[0m                      Traceback (most recent call last)",
      "\u001b[1;32m<ipython-input-32-5318458c5bcd>\u001b[0m in \u001b[0;36m<module>\u001b[1;34m\u001b[0m\n\u001b[0;32m      1\u001b[0m \u001b[0mylim\u001b[0m\u001b[1;33m=\u001b[0m\u001b[1;33m(\u001b[0m\u001b[1;33m-\u001b[0m\u001b[1;36m300\u001b[0m\u001b[1;33m,\u001b[0m\u001b[1;36m300\u001b[0m\u001b[1;33m)\u001b[0m\u001b[1;33m\u001b[0m\u001b[1;33m\u001b[0m\u001b[0m\n\u001b[0;32m      2\u001b[0m \u001b[0mplot_and_compare\u001b[0m\u001b[1;33m(\u001b[0m\u001b[0mx\u001b[0m\u001b[1;33m,\u001b[0m\u001b[0my\u001b[0m\u001b[1;33m,\u001b[0m\u001b[0mquad\u001b[0m\u001b[1;33m,\u001b[0m  \u001b[0mnet\u001b[0m\u001b[1;33m,\u001b[0m \u001b[1;33m-\u001b[0m\u001b[1;36m5\u001b[0m\u001b[1;33m,\u001b[0m\u001b[1;36m5\u001b[0m\u001b[1;33m,\u001b[0m\u001b[0mylim\u001b[0m\u001b[1;33m=\u001b[0m\u001b[0mylim\u001b[0m\u001b[1;33m,\u001b[0m \u001b[0msave_file\u001b[0m\u001b[1;33m=\u001b[0m\u001b[1;34m'quad_w_degree_9.png'\u001b[0m\u001b[1;33m)\u001b[0m\u001b[1;33m\u001b[0m\u001b[1;33m\u001b[0m\u001b[0m\n\u001b[1;32m----> 3\u001b[1;33m \u001b[0mnet\u001b[0m\u001b[1;33m.\u001b[0m\u001b[0mprint_weights\u001b[0m\u001b[1;33m(\u001b[0m\u001b[1;33m)\u001b[0m\u001b[1;33m\u001b[0m\u001b[1;33m\u001b[0m\u001b[0m\n\u001b[0m",
      "\u001b[1;32m~\\Anaconda3\\envs\\pytorch\\lib\\site-packages\\torch\\nn\\modules\\module.py\u001b[0m in \u001b[0;36m__getattr__\u001b[1;34m(self, name)\u001b[0m\n\u001b[0;32m    776\u001b[0m             \u001b[1;32mif\u001b[0m \u001b[0mname\u001b[0m \u001b[1;32min\u001b[0m \u001b[0mmodules\u001b[0m\u001b[1;33m:\u001b[0m\u001b[1;33m\u001b[0m\u001b[1;33m\u001b[0m\u001b[0m\n\u001b[0;32m    777\u001b[0m                 \u001b[1;32mreturn\u001b[0m \u001b[0mmodules\u001b[0m\u001b[1;33m[\u001b[0m\u001b[0mname\u001b[0m\u001b[1;33m]\u001b[0m\u001b[1;33m\u001b[0m\u001b[1;33m\u001b[0m\u001b[0m\n\u001b[1;32m--> 778\u001b[1;33m         raise ModuleAttributeError(\"'{}' object has no attribute '{}'\".format(\n\u001b[0m\u001b[0;32m    779\u001b[0m             type(self).__name__, name))\n\u001b[0;32m    780\u001b[0m \u001b[1;33m\u001b[0m\u001b[0m\n",
      "\u001b[1;31mModuleAttributeError\u001b[0m: 'MultiLinearRegression' object has no attribute 'print_weights'"
     ]
    },
    {
     "data": {
      "image/png": "[encoded data removed]",
      "text/plain": [
       "<Figure size 864x576 with 1 Axes>"
      ]
     },
     "metadata": {
      "needs_background": "light"
     },
     "output_type": "display_data"
    }
   ],
   "source": [
    "ylim=(-300,300)\n",
    "plot_and_compare(x,y,quad,  net, -5,5,ylim=ylim, save_file='quad_w_degree_9.png')\n",
    "net.print_weights() "
   ]
  },
  {
   "cell_type": "code",
   "execution_count": null,
   "metadata": {},
   "outputs": [],
   "source": [
    "plt.plot(x,y,'go')\n",
    "plt.plot(np.arange(-4,4,.1), quad(np.arange(-4,4,.1)), 'ro',markersize=1)"
   ]
  },
  {
   "cell_type": "markdown",
   "metadata": {},
   "source": [
    "<h2>More points</h2>"
   ]
  },
  {
   "cell_type": "code",
   "execution_count": 46,
   "metadata": {},
   "outputs": [],
   "source": [
    "import torch.nn.functional as F \n",
    "x = np.array([a for a in np.arange(10,10,.1)])\n",
    "y = quad(x)\n",
    "y_t = torch.from_numpy( y ).float() \n",
    "net = pf.MultiLinearRegression(10) \n",
    "optimizer = optim.Adam(net.parameters(), lr=.01)\n",
    "loss_func = nn.MSELoss()\n",
    "class Net(nn.Module):\n",
    "    def __init__(self):\n",
    "        super(Net, self).__init__()\n",
    "        self.fc1 = nn.Linear(1, 6)\n",
    "        self.fc2 = nn.Linear(6, 6)\n",
    "        self.fc3 = nn.Linear(6, 1)\n",
    "        \n",
    "    def forward(self, x):\n",
    "        input_x = x\n",
    "        if not torch.is_tensor(x):\n",
    "            input_x = torch.from_numpy(x).type(torch.float)\n",
    "        input_x = torch.reshape(input_x, (-1,1))\n",
    "        x = F.dropout(F.relu(self.fc1(input_x)), p=0.5)\n",
    "        x = F.relu(self.fc2(x))\n",
    "        x = self.fc3(x)\n",
    "        return x\n",
    "    \n",
    "net = Net()"
   ]
  },
  {
   "cell_type": "code",
   "execution_count": 47,
   "metadata": {},
   "outputs": [
    {
     "name": "stderr",
     "output_type": "stream",
     "text": [
      "C:\\Users\\avatsyayan\\Anaconda3\\envs\\pytorch\\lib\\site-packages\\torch\\nn\\modules\\loss.py:446: UserWarning: Using a target size (torch.Size([0])) that is different to the input size (torch.Size([0, 1])). This will likely lead to incorrect results due to broadcasting. Please ensure they have the same size.\n",
      "  return F.mse_loss(input, target, reduction=self.reduction)\n"
     ]
    },
    {
     "name": "stdout",
     "output_type": "stream",
     "text": [
      "tensor(nan)\n",
      "tensor(nan)\n",
      "tensor(nan)\n",
      "tensor(nan)\n",
      "tensor(nan)\n",
      "tensor(nan)\n",
      "tensor(nan)\n",
      "tensor(nan)\n",
      "tensor(nan)\n",
      "tensor(nan)\n",
      "tensor(nan)\n",
      "tensor(nan)\n",
      "tensor(nan)\n",
      "tensor(nan)\n",
      "tensor(nan)\n",
      "tensor(nan)\n",
      "tensor(nan)\n",
      "tensor(nan)\n",
      "tensor(nan)\n",
      "tensor(nan)\n",
      "tensor(nan)\n",
      "tensor(nan)\n",
      "tensor(nan)\n",
      "tensor(nan)\n",
      "tensor(nan)\n",
      "tensor(nan)\n",
      "tensor(nan)\n",
      "tensor(nan)\n",
      "tensor(nan)\n",
      "tensor(nan)\n",
      "tensor(nan)\n",
      "tensor(nan)\n",
      "tensor(nan)\n",
      "tensor(nan)\n",
      "tensor(nan)\n",
      "tensor(nan)\n",
      "tensor(nan)\n",
      "tensor(nan)\n",
      "tensor(nan)\n",
      "tensor(nan)\n",
      "tensor(nan)\n",
      "tensor(nan)\n",
      "tensor(nan)\n",
      "tensor(nan)\n",
      "tensor(nan)\n",
      "tensor(nan)\n",
      "tensor(nan)\n",
      "tensor(nan)\n",
      "tensor(nan)\n"
     ]
    }
   ],
   "source": [
    "losses=[] \n",
    "each_n = 1000\n",
    "for i in range(each_n*50):\n",
    "    optimizer.zero_grad()\n",
    "    y_pred  = net(x)\n",
    "    loss = loss_func(y_pred, y_t)\n",
    "    losses.append(loss) \n",
    "    loss.backward()\n",
    "    optimizer.step()\n",
    "    if i%each_n == 0 :\n",
    "        loss_n = losses[each_n:]\n",
    "        if loss_n:\n",
    "            print(torch.mean(torch.Tensor(loss_n)).data)\n",
    "            ylim=(-200,200)\n",
    "            #plot_and_compare_animate(x,y,quad,  net, -5,5,ylim=ylim, show_arrows=True) #'quad_w_degree_9_5points.png')"
   ]
  },
  {
   "cell_type": "code",
   "execution_count": 48,
   "metadata": {},
   "outputs": [
    {
     "data": {
      "image/png": "[encoded data removed]",
      "text/plain": [
       "<Figure size 864x576 with 1 Axes>"
      ]
     },
     "metadata": {
      "needs_background": "light"
     },
     "output_type": "display_data"
    }
   ],
   "source": [
    "ylim=(-100,100)\n",
    "plot_and_compare(x,y,quad,  net, -5,5,ylim=ylim,  save_file='quad_w_degree_9_5points.png')\n",
    "#net.print_weights() "
   ]
  },
  {
   "cell_type": "code",
   "execution_count": null,
   "metadata": {},
   "outputs": [],
   "source": []
  }
 ],
 "metadata": {
  "kernelspec": {
   "display_name": "Python 3",
   "language": "python",
   "name": "python3"
  },
  "language_info": {
   "codemirror_mode": {
    "name": "ipython",
    "version": 3
   },
   "file_extension": ".py",
   "mimetype": "text/x-python",
   "name": "python",
   "nbconvert_exporter": "python",
   "pygments_lexer": "ipython3",
   "version": "3.8.5"
  }
 },
 "nbformat": 4,
 "nbformat_minor": 4
}
